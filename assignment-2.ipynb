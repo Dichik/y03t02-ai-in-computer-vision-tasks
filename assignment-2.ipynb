{
  "nbformat": 4,
  "nbformat_minor": 0,
  "metadata": {
    "colab": {
      "provenance": [],
      "authorship_tag": "ABX9TyOOMGPWKdrBoz8Hx6B/5cp2",
      "include_colab_link": true
    },
    "kernelspec": {
      "name": "python3",
      "display_name": "Python 3"
    },
    "language_info": {
      "name": "python"
    }
  },
  "cells": [
    {
      "cell_type": "markdown",
      "metadata": {
        "id": "view-in-github",
        "colab_type": "text"
      },
      "source": [
        "<a href=\"https://colab.research.google.com/github/Dichik/y03t02-ai-in-image-processing/blob/main/assignment-2.ipynb\" target=\"_parent\"><img src=\"https://colab.research.google.com/assets/colab-badge.svg\" alt=\"Open In Colab\"/></a>"
      ]
    },
    {
      "cell_type": "markdown",
      "source": [
        "# Assignment 2\n",
        "\n",
        "## Basics of object detection using OpenCV\n",
        "\n",
        "### Мета\n",
        "Навчитись виявляти обличчя та пішоходів в режимі реального часу за допомогою OpenCV"
      ],
      "metadata": {
        "id": "Q2cV5yzmvvE9"
      }
    },
    {
      "cell_type": "markdown",
      "source": [
        "## Task\n",
        "\n",
        "1. Використовуючи будь-яку фотографію з декількома людьми, виявити на ньому обличчя, очi, усмiшку. Порахувати кiлькiсть осiб на фото;\n",
        "2. Зробити розпізнавання використовуючи будь-яке відео з обличчям людини, тривалiстю не менше 30 секунд. Можно використати камеру ноутбука;\n",
        "3. Обробити вiдеофал, так щоб вiн видiляв пiшоходiв i, по можливостi, їхнi обличчя. Файл можна взяти з youtube i вирiзати ролик тривалiстю не менше 30 секунд.\n"
      ],
      "metadata": {
        "id": "iWnrMEx6wMYO"
      }
    },
    {
      "cell_type": "code",
      "execution_count": null,
      "metadata": {
        "id": "cy3QuWMAvizd"
      },
      "outputs": [],
      "source": []
    },
    {
      "cell_type": "markdown",
      "source": [
        "## Final Questions\n",
        "\n",
        "1. Що таке алгоритм Віоли-Джонсона? \n",
        "2. Що таке haarcascade?\n",
        "3. Що таке HOG-класифікатор?\n",
        "4. Що таке SVM-детектор?\n",
        "5. Що робить метод cvtColor та яка його мета використання у цій лабораторній?"
      ],
      "metadata": {
        "id": "DKzT69L3waI9"
      }
    },
    {
      "cell_type": "code",
      "source": [],
      "metadata": {
        "id": "B70Fe7JdwfJO"
      },
      "execution_count": null,
      "outputs": []
    }
  ]
}