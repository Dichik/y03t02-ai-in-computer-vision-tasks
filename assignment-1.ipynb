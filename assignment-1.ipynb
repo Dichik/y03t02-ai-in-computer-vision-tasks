{
 "cells": [
  {
   "attachments": {},
   "cell_type": "markdown",
   "metadata": {},
   "source": [
    "# Assignment #1\n",
    "\n",
    "## Topic: basics of OpenCV\n",
    "\n",
    "**Goal** - ознайомитись з операціями читання, відображення та збереження зображень з використанням пакету для мови програмування Python. "
   ]
  },
  {
   "attachments": {},
   "cell_type": "markdown",
   "metadata": {},
   "source": [
    "### Task\n",
    "Проробити всі приклади, які наведені у теоретичних відомостях."
   ]
  },
  {
   "attachments": {},
   "cell_type": "markdown",
   "metadata": {},
   "source": [
    "### Imports"
   ]
  },
  {
   "cell_type": "code",
   "execution_count": 2,
   "metadata": {},
   "outputs": [],
   "source": [
    "import cv2"
   ]
  },
  {
   "cell_type": "code",
   "execution_count": 3,
   "metadata": {},
   "outputs": [
    {
     "name": "stdout",
     "output_type": "stream",
     "text": [
      "4.7.0\n"
     ]
    }
   ],
   "source": [
    "print(cv2.__version__)"
   ]
  },
  {
   "cell_type": "code",
   "execution_count": 4,
   "metadata": {},
   "outputs": [
    {
     "data": {
      "text/plain": [
       "array([[ 68,  72,  77, ..., 234, 234, 234],\n",
       "       [ 69,  71,  76, ..., 234, 234, 234],\n",
       "       [ 69,  71,  74, ..., 234, 234, 234],\n",
       "       ...,\n",
       "       [238, 242, 243, ..., 156, 157, 158],\n",
       "       [238, 242, 243, ..., 158, 160, 160],\n",
       "       [238, 243, 244, ..., 161, 162, 163]], dtype=uint8)"
      ]
     },
     "execution_count": 4,
     "metadata": {},
     "output_type": "execute_result"
    }
   ],
   "source": [
    "img_path = './images/shrek.jpeg'\n",
    "\n",
    "img = cv2.imread(img_path)\n",
    "img_grey = cv2.imread(img_path, 0)\n",
    "img_grey"
   ]
  },
  {
   "cell_type": "code",
   "execution_count": 5,
   "metadata": {},
   "outputs": [
    {
     "ename": "SystemError",
     "evalue": "<built-in function destroyAllWindows> returned NULL without setting an error",
     "output_type": "error",
     "traceback": [
      "\u001b[0;31m---------------------------------------------------------------------------\u001b[0m",
      "\u001b[0;31mSystemError\u001b[0m                               Traceback (most recent call last)",
      "\u001b[1;32m/Users/tarasbohdan/Desktop/university/computer-vision/y03t02-ai-in-computer-vision-tasks/assignment-1.ipynb Cell 7\u001b[0m in \u001b[0;36m<cell line: 3>\u001b[0;34m()\u001b[0m\n\u001b[1;32m      <a href='vscode-notebook-cell:/Users/tarasbohdan/Desktop/university/computer-vision/y03t02-ai-in-computer-vision-tasks/assignment-1.ipynb#X13sZmlsZQ%3D%3D?line=0'>1</a>\u001b[0m cv2\u001b[39m.\u001b[39mimshow(\u001b[39m'\u001b[39m\u001b[39mmy-shrek\u001b[39m\u001b[39m'\u001b[39m, img_grey)\n\u001b[1;32m      <a href='vscode-notebook-cell:/Users/tarasbohdan/Desktop/university/computer-vision/y03t02-ai-in-computer-vision-tasks/assignment-1.ipynb#X13sZmlsZQ%3D%3D?line=1'>2</a>\u001b[0m cv2\u001b[39m.\u001b[39mwaitKey(\u001b[39m0\u001b[39m)\n\u001b[0;32m----> <a href='vscode-notebook-cell:/Users/tarasbohdan/Desktop/university/computer-vision/y03t02-ai-in-computer-vision-tasks/assignment-1.ipynb#X13sZmlsZQ%3D%3D?line=2'>3</a>\u001b[0m cv2\u001b[39m.\u001b[39;49mdestroyAllWindows(\u001b[39m'\u001b[39;49m\u001b[39mmy-shrek\u001b[39;49m\u001b[39m'\u001b[39;49m)\n",
      "\u001b[0;31mSystemError\u001b[0m: <built-in function destroyAllWindows> returned NULL without setting an error"
     ]
    },
    {
     "ename": "",
     "evalue": "",
     "output_type": "error",
     "traceback": [
      "\u001b[1;31mThe Kernel crashed while executing code in the the current cell or a previous cell. Please review the code in the cell(s) to identify a possible cause of the failure. Click <a href='https://aka.ms/vscodeJupyterKernelCrash'>here</a> for more info. View Jupyter <a href='command:jupyter.viewOutput'>log</a> for further details."
     ]
    }
   ],
   "source": [
    "cv2.imshow('my-shrek', img_grey)\n",
    "cv2.waitKey(0)\n",
    "cv2.destroyAllWindows('my-shrek')"
   ]
  },
  {
   "attachments": {},
   "cell_type": "markdown",
   "metadata": {},
   "source": [
    "### Final questions:\n",
    "\n",
    "- Що таке OpenCV?\n",
    "\n",
    "- Що таке піксель?\n",
    "\n",
    "- Як встановити пакет opencv-python?\n",
    "\n",
    "- Як розмити зображення?\n",
    "\n",
    "- Які функції використовуються для малювання та відображення тексту?\n"
   ]
  },
  {
   "attachments": {},
   "cell_type": "markdown",
   "metadata": {},
   "source": [
    "### Resources \n",
    "1. OpenCV. URL: https://docs.opencv.org/4.x/\n",
    "2. opencv-python: URL: https://docs.opencv.org/4.x/d6/d00/tutorial_py_root.html"
   ]
  },
  {
   "cell_type": "markdown",
   "metadata": {},
   "source": []
  }
 ],
 "metadata": {
  "kernelspec": {
   "display_name": "Python 3",
   "language": "python",
   "name": "python3"
  },
  "language_info": {
   "codemirror_mode": {
    "name": "ipython",
    "version": 3
   },
   "file_extension": ".py",
   "mimetype": "text/x-python",
   "name": "python",
   "nbconvert_exporter": "python",
   "pygments_lexer": "ipython3",
   "version": "3.9.12"
  },
  "orig_nbformat": 4,
  "vscode": {
   "interpreter": {
    "hash": "8b1719dcdc2945bfab9e09217034c1b23afd6cd60ca490fa35774ed6442f2541"
   }
  }
 },
 "nbformat": 4,
 "nbformat_minor": 2
}
